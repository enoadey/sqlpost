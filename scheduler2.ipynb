{
 "cells": [
  {
   "cell_type": "code",
   "execution_count": 1,
   "metadata": {},
   "outputs": [],
   "source": [
    "\n",
    "from datetime import datetime\n",
    "import time\n",
    "import os\n",
    "import pandas as pd\n",
    "import psycopg2\n",
    "import zoneinfo\n",
    "import pytz\n",
    "\n",
    "from apscheduler.schedulers.background import BackgroundScheduler"
   ]
  },
  {
   "cell_type": "code",
   "execution_count": 4,
   "metadata": {},
   "outputs": [
    {
     "name": "stdout",
     "output_type": "stream",
     "text": [
      "Press Ctrl+C to exit\n",
      "The time is: 2021-12-11 13:48:31.448511\n",
      "The time is: 2021-12-11 13:48:34.452083\n",
      "The time is: 2021-12-11 13:48:37.448287\n",
      "The time is: 2021-12-11 13:48:40.449128\n",
      "The time is: 2021-12-11 13:48:43.448719\n",
      "The time is: 2021-12-11 13:48:46.453965\n",
      "The time is: 2021-12-11 13:48:49.452205\n",
      "The time is: 2021-12-11 13:48:52.451016\n",
      "The time is: 2021-12-11 13:48:55.449059\n",
      "The time is: 2021-12-11 13:48:58.450555\n",
      "The time is: 2021-12-11 13:49:01.446423\n",
      "The time is: 2021-12-11 13:49:04.449911\n",
      "The time is: 2021-12-11 13:49:07.446759\n",
      "The time is: 2021-12-11 13:49:10.446579\n",
      "The time is: 2021-12-11 13:49:13.446376\n",
      "The time is: 2021-12-11 13:49:16.449665\n",
      "The time is: 2021-12-11 13:49:19.450099\n",
      "The time is: 2021-12-11 13:49:22.450510\n",
      "The time is: 2021-12-11 13:49:25.450511\n",
      "The time is: 2021-12-11 13:49:28.450504\n",
      "The time is: 2021-12-11 13:49:31.450163\n",
      "The time is: 2021-12-11 13:49:34.447381\n",
      "The time is: 2021-12-11 13:49:37.445967\n",
      "The time is: 2021-12-11 13:49:40.450485\n",
      "The time is: 2021-12-11 13:49:43.449153\n",
      "The time is: 2021-12-11 13:49:46.447544\n",
      "The time is: 2021-12-11 13:49:49.449899\n",
      "The time is: 2021-12-11 13:49:52.447798\n",
      "The time is: 2021-12-11 13:49:55.448404\n",
      "The time is: 2021-12-11 13:49:58.450773\n",
      "The time is: 2021-12-11 13:50:01.451494\n",
      "The time is: 2021-12-11 13:50:04.452721\n",
      "The time is: 2021-12-11 13:50:07.450029\n",
      "The time is: 2021-12-11 13:50:10.449840\n",
      "The time is: 2021-12-11 13:50:13.448363\n",
      "The time is: 2021-12-11 13:50:16.449974\n",
      "The time is: 2021-12-11 13:50:19.451788\n",
      "The time is: 2021-12-11 13:50:22.449844\n",
      "The time is: 2021-12-11 13:50:25.448581\n",
      "The time is: 2021-12-11 13:50:28.454379\n",
      "The time is: 2021-12-11 13:50:31.451772\n",
      "The time is: 2021-12-11 13:50:34.450410\n",
      "The time is: 2021-12-11 13:50:37.446805\n",
      "The time is: 2021-12-11 13:50:40.450048\n",
      "The time is: 2021-12-11 13:50:43.445971\n",
      "The time is: 2021-12-11 13:50:46.449027\n",
      "The time is: 2021-12-11 13:50:49.449251\n"
     ]
    }
   ],
   "source": [
    "def tick():\n",
    "    print('The time is: %s' % datetime.now())\n",
    "    \n",
    "\n",
    "def script():\n",
    "    conn = psycopg2.connect(\n",
    "            host=\"localhost\",\n",
    "            port=5432,\n",
    "            database=\"immo\",\n",
    "            user=\"postgres\",\n",
    "            password=\"1234\")\n",
    "\n",
    "    cur = conn.cursor()\n",
    "\n",
    "\n",
    "    q = \"\"\"SELECT * FROM opo5_immo WHERE balcony ='TRUE'\"\"\"#84 with balcony\n",
    "    b = pd.read_sql_query(q, conn)\n",
    "    b.to_excel(r'/Users/username/hello_project/dfg/balcony_immo.xlsx', index = False)\n",
    "\n",
    "    \n",
    "\n",
    "if __name__ == '__main__':\n",
    "    \n",
    "    scheduler = BackgroundScheduler()\n",
    "    scheduler.add_job(tick, 'interval', seconds=3, timezone=\"Europe/Paris\", start_date= datetime.now())\n",
    "    scheduler.start()\n",
    "    print('Press Ctrl+{0} to exit'.format('Break' if os.name == 'nt' else 'C'))\n",
    "\n",
    "    try:\n",
    "        # This is here to simulate application activity (which keeps the main thread alive).\n",
    "        while True:\n",
    "            time.sleep(2)\n",
    "    except (KeyboardInterrupt, SystemExit):\n",
    "        # Not strictly necessary if daemonic mode is enabled but should be done if possible\n",
    "        scheduler.shutdown()"
   ]
  }
 ],
 "metadata": {
  "interpreter": {
   "hash": "e542f1c701be503fc3e92bef9c6c8910579581860a4be63fe903bb4ea7455555"
  },
  "kernelspec": {
   "display_name": "Python 3.8.12 64-bit (conda)",
   "language": "python",
   "name": "python3"
  },
  "language_info": {
   "codemirror_mode": {
    "name": "ipython",
    "version": 3
   },
   "file_extension": ".py",
   "mimetype": "text/x-python",
   "name": "python",
   "nbconvert_exporter": "python",
   "pygments_lexer": "ipython3",
   "version": "3.10.0"
  },
  "orig_nbformat": 4
 },
 "nbformat": 4,
 "nbformat_minor": 2
}
