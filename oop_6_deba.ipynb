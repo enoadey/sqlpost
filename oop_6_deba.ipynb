{
 "cells": [
  {
   "cell_type": "markdown",
   "metadata": {},
   "source": [
    "# 6. Programmation orientée objet "
   ]
  },
  {
   "cell_type": "code",
   "execution_count": 1,
   "metadata": {},
   "outputs": [],
   "source": [
    "import pandas as pd"
   ]
  },
  {
   "cell_type": "code",
   "execution_count": 2,
   "metadata": {},
   "outputs": [],
   "source": [
    "data = pd.read_csv('promoteur_imo.csv', encoding=\"UTF-8\", sep=';')"
   ]
  },
  {
   "cell_type": "code",
   "execution_count": 3,
   "metadata": {},
   "outputs": [],
   "source": [
    "class bien_immo:\n",
    "  lists = ['id', 'id_lot', 'nb_piece', 'typologie', 'prix_tva_reduit', 'prix_tva_normal', 'prix_ht', 'prix_m_ht', 'prix_m_ttc', 'orientation', \n",
    "  'exterieur', 'balcony', 'garden', 'parking', 'ville', 'departement', 'date_fin_programme', 'adresse_entiere', 'date_extraction', 'surface', 'etage', \n",
    "  'nom_du_programme', 'promoteur']\n",
    "  def __init__(self, lists):\n",
    "    self.id = lists[0]\n",
    "    self.id_lot = lists[1]\n",
    "    self.nb_piece = lists[2]\n",
    "    self.typologie = lists[3]\n",
    "    self.prix_tva_reduit = lists[4]\n",
    "    self.prix_tva_normal = lists[5]\n",
    "    self.prix_ht = lists[6]\n",
    "    self.prix_m_ht = lists[7]\n",
    "    self.prix_m_ttc = lists[8]\n",
    "    self.orientation = lists[9]\n",
    "    self.exterieur = lists[10]\n",
    "    self.balcony = lists[11]\n",
    "    self.garden = lists[12]\n",
    "    self.parking = lists[13]\n",
    "    self.ville = lists[14]\n",
    "    self.departement = lists[15]\n",
    "    self.date_fin_programme = lists[16]\n",
    "    self.adresse_entiere = lists[17]\n",
    "    self.date_extraction = lists[18]\n",
    "    self.surface = lists[19]\n",
    "    self.etage = lists[20]\n",
    "    self.nom_du_programme = lists[21]\n",
    "    self.promoteur = lists[22]"
   ]
  },
  {
   "cell_type": "code",
   "execution_count": 4,
   "metadata": {},
   "outputs": [],
   "source": [
    "objects= []\n",
    "for i in range(len(data)):\n",
    "    objects.append(bien_immo(data.iloc[i,:].values))"
   ]
  },
  {
   "cell_type": "code",
   "execution_count": 5,
   "metadata": {},
   "outputs": [
    {
     "data": {
      "text/plain": [
       "\"Cournon-d'Auvergne\""
      ]
     },
     "execution_count": 5,
     "metadata": {},
     "output_type": "execute_result"
    }
   ],
   "source": [
    "objects[10].ville"
   ]
  }
 ],
 "metadata": {
  "interpreter": {
   "hash": "a15ee5bd0b7c5b2d5bf96d70b05ac3e9f48f0b789c21136924a402defbe54f85"
  },
  "kernelspec": {
   "display_name": "Python 3.9.8 64-bit ('env': venv)",
   "language": "python",
   "name": "python3"
  },
  "language_info": {
   "codemirror_mode": {
    "name": "ipython",
    "version": 3
   },
   "file_extension": ".py",
   "mimetype": "text/x-python",
   "name": "python",
   "nbconvert_exporter": "python",
   "pygments_lexer": "ipython3",
   "version": "3.10.0"
  },
  "orig_nbformat": 4
 },
 "nbformat": 4,
 "nbformat_minor": 2
}
